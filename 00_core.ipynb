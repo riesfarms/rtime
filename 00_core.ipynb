{
 "cells": [
  {
   "cell_type": "code",
   "execution_count": null,
   "metadata": {},
   "outputs": [],
   "source": [
    "# hide\n",
    "%load_ext autoreload\n",
    "%autoreload 2"
   ]
  },
  {
   "cell_type": "code",
   "execution_count": null,
   "metadata": {},
   "outputs": [],
   "source": [
    "# default_exp core"
   ]
  },
  {
   "cell_type": "markdown",
   "metadata": {},
   "source": [
    "# rtime\n",
    "\n",
    "> \"Basic time functions to ensure time is handled consistently across projects.\"\n"
   ]
  },
  {
   "cell_type": "code",
   "execution_count": null,
   "metadata": {},
   "outputs": [],
   "source": [
    "# hide\n",
    "from fastcore.test import *\n",
    "from nbdev.showdoc import *"
   ]
  },
  {
   "cell_type": "code",
   "execution_count": null,
   "metadata": {},
   "outputs": [],
   "source": [
    "# export\n",
    "import datetime\n",
    "import time\n",
    "from typing import cast, NewType"
   ]
  },
  {
   "cell_type": "code",
   "execution_count": null,
   "metadata": {},
   "outputs": [],
   "source": [
    "# export\n",
    "UtcTime = NewType(\"UtcTime\", datetime.datetime)\n",
    "LocalTime = NewType(\"LocalTime\", datetime.datetime)\n",
    "PosixTime = NewType(\"PosixTime\", int)\n",
    "MILLIS_IN_A_SECOND = 1000.0\n",
    "MICROS_IN_A_MILLI = 1000.0"
   ]
  },
  {
   "cell_type": "code",
   "execution_count": null,
   "metadata": {},
   "outputs": [],
   "source": [
    "# exporti\n",
    "def _seconds_to_posix(seconds: float) -> PosixTime:\n",
    "    \"\"\"Convert the seconds to a PosixTime.\"\"\"\n",
    "    return cast(PosixTime, int(MILLIS_IN_A_SECOND * seconds))"
   ]
  },
  {
   "cell_type": "code",
   "execution_count": null,
   "metadata": {},
   "outputs": [],
   "source": [
    "# export\n",
    "def seconds_to_millis(seconds: float) -> int:\n",
    "    \"\"\"Convert the seconds to milliseconds.\n",
    "    \n",
    "    Valuse are rounded to the nearest millisecond.\n",
    "    \"\"\"\n",
    "    return int(MILLIS_IN_A_SECOND * seconds + 0.5)"
   ]
  },
  {
   "cell_type": "code",
   "execution_count": null,
   "metadata": {},
   "outputs": [],
   "source": [
    "test_eq(seconds_to_millis(2.2), 2200)\n",
    "test_eq(seconds_to_millis(0.1), 100)\n",
    "test_eq(seconds_to_millis(0.02), 20)\n",
    "test_eq(seconds_to_millis(0.003), 3)\n",
    "test_eq(seconds_to_millis(0.0004), 0)\n",
    "test_eq(seconds_to_millis(0.0005), 1)"
   ]
  },
  {
   "cell_type": "code",
   "execution_count": null,
   "metadata": {},
   "outputs": [],
   "source": [
    "# export\n",
    "def timestamp() -> PosixTime:\n",
    "    \"\"\"Return the current Posix time in milliseconds.\"\"\"\n",
    "    return _seconds_to_posix(seconds=time.time())"
   ]
  },
  {
   "cell_type": "markdown",
   "metadata": {},
   "source": [
    "Unlike python's builtin timetsamp function time.time `timestamp` returns the current time in milliseconds since the epoch rather than seconds."
   ]
  },
  {
   "cell_type": "code",
   "execution_count": null,
   "metadata": {},
   "outputs": [],
   "source": [
    "test_close(timestamp() / time.time(), 1000.0)"
   ]
  },
  {
   "cell_type": "code",
   "execution_count": null,
   "metadata": {},
   "outputs": [],
   "source": [
    "# export\n",
    "def to_utc(timestamp: PosixTime) -> UtcTime:\n",
    "    \"\"\"Convert a timestamp to utc time.\"\"\"\n",
    "    seconds = timestamp / MILLIS_IN_A_SECOND\n",
    "    dt = datetime.datetime.fromtimestamp(seconds, datetime.timezone.utc)\n",
    "    return cast(UtcTime, dt)"
   ]
  },
  {
   "cell_type": "code",
   "execution_count": null,
   "metadata": {},
   "outputs": [],
   "source": [
    "now = timestamp()\n",
    "utc = to_utc(timestamp=now)\n",
    "# Verify that the object has the utc timezone.\n",
    "test_eq(utc.tzinfo, datetime.timezone.utc)\n",
    "# Verify we still have the same time when converting back to a timestamp.\n",
    "# utc.timestamp produces a time in seconds where as now is in milliseconds.\n",
    "test_eq(now / utc.timestamp(), 1000.0)"
   ]
  },
  {
   "cell_type": "code",
   "execution_count": null,
   "metadata": {},
   "outputs": [],
   "source": [
    "# export\n",
    "def to_local(timestamp: PosixTime) -> LocalTime:\n",
    "    \"\"\"Convert the timestamp to a time in the local timezone.\"\"\"\n",
    "    return cast(LocalTime, to_utc(timestamp=timestamp).astimezone())"
   ]
  },
  {
   "cell_type": "code",
   "execution_count": null,
   "metadata": {},
   "outputs": [],
   "source": [
    "start = datetime.datetime.now().astimezone()\n",
    "timestamp = _seconds_to_posix(seconds=start.timestamp())\n",
    "local_from_ts = to_local(timestamp=timestamp)\n",
    "# Assert the local time created from the timestamp has the local timezone.\n",
    "test_eq(local_from_ts.tzinfo, start.tzinfo)\n",
    "diff = (start - local_from_ts).total_seconds()\n",
    "# Our timestamps only have millisecond precision so the conversion to a timestamp\n",
    "# and back to a local time may not exactly equally the starting time.\n",
    "test_close(diff, 0, eps=1e-03)\n",
    "# Since we truncate timestamps to the neareast millisecond the conversion back to\n",
    "# a local time should never be greater than the start.\n",
    "test_eq(diff >= 0, True)"
   ]
  },
  {
   "cell_type": "code",
   "execution_count": null,
   "metadata": {},
   "outputs": [
    {
     "name": "stdout",
     "output_type": "stream",
     "text": [
      "Converted 00_core.ipynb.\n",
      "Converted index.ipynb.\n"
     ]
    }
   ],
   "source": [
    "# hide\n",
    "from nbdev.export import notebook2script\n",
    "\n",
    "notebook2script()"
   ]
  }
 ],
 "metadata": {
  "kernelspec": {
   "display_name": "Python 3 (ipykernel)",
   "language": "python",
   "name": "python3"
  }
 },
 "nbformat": 4,
 "nbformat_minor": 4
}
